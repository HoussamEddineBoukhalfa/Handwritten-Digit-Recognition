{
  "nbformat": 4,
  "nbformat_minor": 0,
  "metadata": {
    "colab": {
      "provenance": []
    },
    "kernelspec": {
      "name": "python3",
      "display_name": "Python 3"
    },
    "language_info": {
      "name": "python"
    }
  },
  "cells": [
    {
      "cell_type": "markdown",
      "source": [
        "# Handwritten Digit Recognition Project 🚀\n",
        "\n",
        "Welcome to our exciting journey into the world of Deep Learning! In this project, I'll dive into the fascinating realm of handwritten digit recognition using PyTorch, one of the most popular machine learning libraries. 🧠💻\n"
      ],
      "metadata": {
        "id": "NAsgDbOhyWgZ"
      }
    },
    {
      "cell_type": "markdown",
      "source": [
        "## Loading the MNIST Dataset 📚\n",
        "\n",
        "\n",
        "\n"
      ],
      "metadata": {
        "id": "ivgWP56HytSS"
      }
    },
    {
      "cell_type": "code",
      "source": [
        "# Import math  libraries\n",
        "import matplotlib.pyplot as plt\n",
        "import numpy as np"
      ],
      "metadata": {
        "id": "8UTVY9ulmt4P"
      },
      "execution_count": 80,
      "outputs": []
    },
    {
      "cell_type": "code",
      "execution_count": 81,
      "metadata": {
        "id": "r2xTBOMDx53Z"
      },
      "outputs": [],
      "source": [
        "# Import necessary libraries\n",
        "import torch\n",
        "from torchvision import datasets, transforms\n",
        "from torch.utils.data import DataLoader\n",
        "\n",
        "# Define a transform to normalize the data\n",
        "transform = transforms.Compose([\n",
        "    #convering images to PyTorch tensors\n",
        "    transforms.ToTensor(),\n",
        "    #normalize pixel value\n",
        "    transforms.Normalize((0.5,),(0.5,))\n",
        "])\n",
        "\n",
        "# Load the MNIST dataset\n",
        "train_set = datasets.MNIST(root='./data', train=True, download=True, transform=transform)\n",
        "test_set = datasets.MNIST(root='./data', train=False, download=True, transform=transform)\n",
        "\n",
        "# Create data loaders\n",
        "train_loader = DataLoader(train_set, batch_size=64, shuffle=True)\n",
        "test_loader = DataLoader(test_set, batch_size=64, shuffle=False)"
      ]
    },
    {
      "cell_type": "code",
      "source": [
        "# Number of images in the train_set and test_set.\n",
        "trainImages = len(train_set)\n",
        "testImages = len(test_set)\n",
        "print(f\"the number of images in the train set is {trainImages}\")\n",
        "print(f\"the number of images in the test set is {testImages}\")"
      ],
      "metadata": {
        "id": "w3OXyKQjy_zb",
        "colab": {
          "base_uri": "https://localhost:8080/"
        },
        "outputId": "a5093642-287f-4931-8203-af54914f24b2"
      },
      "execution_count": 82,
      "outputs": [
        {
          "output_type": "stream",
          "name": "stdout",
          "text": [
            "the number of images in the train set is 60000\n",
            "the number of images in the test set is 10000\n"
          ]
        }
      ]
    },
    {
      "cell_type": "markdown",
      "source": [
        "## Building the Simple Neural Network Model 🛠️\n",
        "\n"
      ],
      "metadata": {
        "id": "LKFfUT-ozFA7"
      }
    },
    {
      "cell_type": "code",
      "source": [
        "# Import necessary PyTorch libraries\n",
        "import torch.nn as nn\n",
        "import torch.nn.functional as F\n",
        "\n",
        "# Define the neural network class\n",
        "class Net(nn.Module):\n",
        "    def __init__(self):\n",
        "        super(Net, self).__init__()\n",
        "        # Define layers of the neural network\n",
        "        self.fc1 = nn.Linear(28*28,10) # First fully connected layer\n",
        "\n",
        "\n",
        "    def forward(self, x):\n",
        "        # Flatten the input tensor\n",
        "        x = x.view(-1, 28 * 28)\n",
        "        x = self.fc1(x) # activation function\n",
        "        return F.log_softmax(x, dim=1)\n",
        "\n",
        "# Create an instance of the network\n",
        "model = Net()\n",
        "print(model)"
      ],
      "metadata": {
        "id": "SDoUc4dzzZMu",
        "colab": {
          "base_uri": "https://localhost:8080/"
        },
        "outputId": "fd8c835c-2cd8-487d-8028-5b89fe476ade"
      },
      "execution_count": 83,
      "outputs": [
        {
          "output_type": "stream",
          "name": "stdout",
          "text": [
            "Net(\n",
            "  (fc1): Linear(in_features=784, out_features=10, bias=True)\n",
            ")\n"
          ]
        }
      ]
    },
    {
      "cell_type": "markdown",
      "source": [
        "## Training the Simple Neural Network Model 🏋️‍♀️🏋️‍♂️\n",
        "\n"
      ],
      "metadata": {
        "id": "J9VnJDBDz2QU"
      }
    },
    {
      "cell_type": "code",
      "source": [
        "# Import optimizer\n",
        "from torch.optim import SGD\n",
        "\n",
        "# Define the loss function and optimizer\n",
        "criterion = nn.CrossEntropyLoss() #loss function\n",
        "optimizer = SGD(model.parameters(), lr=0.01) # Stochastic gradient descent\n",
        "\n",
        "# Set the number of epochs\n",
        "num_epochs = 50\n",
        "listOfTrainLoss1 = []\n",
        "listOfTestLoss1 = []\n",
        "# Training loop\n",
        "for epoch in range(num_epochs):\n",
        "    running_loss = 0.0\n",
        "    for images, labels in train_loader:\n",
        "\n",
        "        optimizer.zero_grad()\n",
        "\n",
        "        outputs = model(images)\n",
        "\n",
        "        loss = criterion(outputs, labels)\n",
        "\n",
        "        loss.backward()\n",
        "        optimizer.step()\n",
        "\n",
        "        running_loss += loss.item()\n",
        "\n",
        "    else:\n",
        "        print(f\"Epoch {epoch+1}, Loss: {running_loss/len(train_loader)}\")\n",
        "    listOfTrainLoss1.append(running_loss)\n",
        "\n",
        "\n",
        "    test_loss = 0.0\n",
        "    with torch.no_grad():\n",
        "       for images, labels in test_loader:\n",
        "          # Complete evaluation pass\n",
        "          outputs = model(images)\n",
        "\n",
        "          testloss = criterion(outputs, labels)\n",
        "\n",
        "          test_loss += loss.item()\n",
        "\n",
        "       else:\n",
        "            print(f\" Loss: {test_loss/len(test_loader)}\")\n",
        "       listOfTestLoss1.append(test_loss)\n",
        "\n",
        "\n",
        "\n",
        "print(\"Training is finished!\")"
      ],
      "metadata": {
        "id": "NqXh40htz2B6",
        "colab": {
          "base_uri": "https://localhost:8080/"
        },
        "outputId": "a39f4de7-ce5a-4b05-db2a-71475388dee1"
      },
      "execution_count": 84,
      "outputs": [
        {
          "output_type": "stream",
          "name": "stdout",
          "text": [
            "Epoch 1, Loss: 0.6141843310773754\n",
            " Loss: 0.6660417318344116\n",
            "Epoch 2, Loss: 0.38672970306835197\n",
            " Loss: 0.4520352780818939\n",
            "Epoch 3, Loss: 0.35247498026280516\n",
            " Loss: 0.26072922348976135\n",
            "Epoch 4, Loss: 0.33515917726639494\n",
            " Loss: 0.17690853774547577\n",
            "Epoch 5, Loss: 0.32378862106374334\n",
            " Loss: 0.29646554589271545\n",
            "Epoch 6, Loss: 0.3160526106304833\n",
            " Loss: 0.344521701335907\n",
            "Epoch 7, Loss: 0.3098516564712977\n",
            " Loss: 0.28067484498023987\n",
            "Epoch 8, Loss: 0.3053064957769441\n",
            " Loss: 0.9132686853408813\n",
            "Epoch 9, Loss: 0.3011090872463768\n",
            " Loss: 0.2595131993293762\n",
            "Epoch 10, Loss: 0.29811394774217975\n",
            " Loss: 0.35089465975761414\n",
            "Epoch 11, Loss: 0.2952973811563525\n",
            " Loss: 0.37354451417922974\n",
            "Epoch 12, Loss: 0.29209294730126223\n",
            " Loss: 0.13798704743385315\n",
            "Epoch 13, Loss: 0.2902956069675463\n",
            " Loss: 0.30865758657455444\n",
            "Epoch 14, Loss: 0.28823132900350384\n",
            " Loss: 0.15684780478477478\n",
            "Epoch 15, Loss: 0.28625188812391084\n",
            " Loss: 0.42878368496894836\n",
            "Epoch 16, Loss: 0.28492184741092896\n",
            " Loss: 0.16419506072998047\n",
            "Epoch 17, Loss: 0.2832721363443301\n",
            " Loss: 0.4204109013080597\n",
            "Epoch 18, Loss: 0.28217811710926005\n",
            " Loss: 0.27296289801597595\n",
            "Epoch 19, Loss: 0.28055983447412186\n",
            " Loss: 0.24243193864822388\n",
            "Epoch 20, Loss: 0.2795404489996082\n",
            " Loss: 0.1298002302646637\n",
            "Epoch 21, Loss: 0.2783993180714119\n",
            " Loss: 0.24316099286079407\n",
            "Epoch 22, Loss: 0.27745163701236375\n",
            " Loss: 0.2811536192893982\n",
            "Epoch 23, Loss: 0.276508394112465\n",
            " Loss: 0.25534510612487793\n",
            "Epoch 24, Loss: 0.27583245411594665\n",
            " Loss: 0.6505951881408691\n",
            "Epoch 25, Loss: 0.27493325744006936\n",
            " Loss: 0.19857975840568542\n",
            "Epoch 26, Loss: 0.2740308802122119\n",
            " Loss: 0.2674834430217743\n",
            "Epoch 27, Loss: 0.2731773327869266\n",
            " Loss: 0.28852441906929016\n",
            "Epoch 28, Loss: 0.27226240262945195\n",
            " Loss: 0.1533563733100891\n",
            "Epoch 29, Loss: 0.27156244925280876\n",
            " Loss: 0.5816093683242798\n",
            "Epoch 30, Loss: 0.2709918642905094\n",
            " Loss: 0.5047531127929688\n",
            "Epoch 31, Loss: 0.27036087072369\n",
            " Loss: 0.41443324089050293\n",
            "Epoch 32, Loss: 0.2695409474747458\n",
            " Loss: 0.1368527114391327\n",
            "Epoch 33, Loss: 0.2692597169222545\n",
            " Loss: 0.524496853351593\n",
            "Epoch 34, Loss: 0.26861018068325926\n",
            " Loss: 0.3673405349254608\n",
            "Epoch 35, Loss: 0.26803374051380513\n",
            " Loss: 0.3111550211906433\n",
            "Epoch 36, Loss: 0.2673761450937753\n",
            " Loss: 0.14059102535247803\n",
            "Epoch 37, Loss: 0.2666614589406483\n",
            " Loss: 0.23614008724689484\n",
            "Epoch 38, Loss: 0.2662227153380924\n",
            " Loss: 0.07363983988761902\n",
            "Epoch 39, Loss: 0.26571202668538096\n",
            " Loss: 0.3609614968299866\n",
            "Epoch 40, Loss: 0.2651260123609988\n",
            " Loss: 0.1241433396935463\n",
            "Epoch 41, Loss: 0.2648345018222706\n",
            " Loss: 0.08848179131746292\n",
            "Epoch 42, Loss: 0.26455685784265814\n",
            " Loss: 0.44862526655197144\n",
            "Epoch 43, Loss: 0.2639147044816759\n",
            " Loss: 0.22878307104110718\n",
            "Epoch 44, Loss: 0.26391977317599474\n",
            " Loss: 0.345295786857605\n",
            "Epoch 45, Loss: 0.2631029189586131\n",
            " Loss: 0.40457358956336975\n",
            "Epoch 46, Loss: 0.2629069936817198\n",
            " Loss: 0.6972464323043823\n",
            "Epoch 47, Loss: 0.2626998017210442\n",
            " Loss: 0.26355162262916565\n",
            "Epoch 48, Loss: 0.2623901305946587\n",
            " Loss: 0.3849999010562897\n",
            "Epoch 49, Loss: 0.2617841498898481\n",
            " Loss: 0.11359749734401703\n",
            "Epoch 50, Loss: 0.26121692334824026\n",
            " Loss: 0.12552355229854584\n",
            "Training is finished!\n"
          ]
        }
      ]
    },
    {
      "cell_type": "markdown",
      "source": [
        "#Simple Model Evaluation\n"
      ],
      "metadata": {
        "id": "CwPq0pgk6PAs"
      }
    },
    {
      "cell_type": "code",
      "source": [
        "import torch\n",
        "model.eval()\n",
        "\n",
        "correct = 0\n",
        "total = 0\n",
        "with torch.no_grad():\n",
        "    for images, labels in test_loader:\n",
        "        outputs = model(images)\n",
        "        _, predicted = torch.max(outputs.data, 1)\n",
        "        total += labels.size(0)\n",
        "        correct += (predicted == labels).sum().item()\n",
        "\n",
        "accuracy = 100 * correct / total\n",
        "print(f'Accuracy of the simple model on the test images: {accuracy:.2f}%')"
      ],
      "metadata": {
        "id": "0602uUHR6SkJ",
        "outputId": "298c505a-1eea-4fe8-e178-f610367fd5ed",
        "colab": {
          "base_uri": "https://localhost:8080/"
        }
      },
      "execution_count": 85,
      "outputs": [
        {
          "output_type": "stream",
          "name": "stdout",
          "text": [
            "Accuracy of the simple model on the test images: 92.22%\n"
          ]
        }
      ]
    },
    {
      "cell_type": "markdown",
      "source": [
        "# The Simple Model Complexity Graph\n",
        "The graph shows the training and test loss of simple model over 10 epochs.\n",
        "\n",
        "*   The training loss (blue) steadily decreases, indicating learning and        improvement.\n",
        "*   The test loss (orange) fluctuates slightly but does not show a clear trend, suggesting the model is generalizing without significant overfitting.\n",
        "\n",
        "\n"
      ],
      "metadata": {
        "id": "i5SXRlR6oDOO"
      }
    },
    {
      "cell_type": "code",
      "source": [
        "listOfEpoch = np.arange(len(listOfTrainLoss1))\n",
        "plt.plot(listOfEpoch , listOfTrainLoss1 , label ='Train loss')\n",
        "plt.plot(listOfEpoch , listOfTestLoss1 , label ='Train loss')\n",
        "plt.xlabel('Epochs')\n",
        "plt.ylabel('Loss')\n",
        "plt.grid()\n",
        "plt.title(\" Training and Test Loss\")\n",
        "plt.show()"
      ],
      "metadata": {
        "id": "ckEA5Ft_0gn8",
        "colab": {
          "base_uri": "https://localhost:8080/",
          "height": 472
        },
        "outputId": "b1a6fe18-977c-4a69-fcc3-ca95c0d6a5ad"
      },
      "execution_count": 86,
      "outputs": [
        {
          "output_type": "display_data",
          "data": {
            "text/plain": [
              "<Figure size 640x480 with 1 Axes>"
            ],
            "image/png": "[encoded data removed]"
          },
          "metadata": {}
        }
      ]
    },
    {
      "cell_type": "markdown",
      "source": [
        "#Building The Complex Neural Network Model 🛠️"
      ],
      "metadata": {
        "id": "ItN5PYNCfHEv"
      }
    },
    {
      "cell_type": "code",
      "source": [
        "# Import necessary PyTorch libraries\n",
        "import torch.nn as nn\n",
        "import torch.nn.functional as F\n",
        "\n",
        "# Define the neural network class\n",
        "class NetComplex(nn.Module):\n",
        "    def __init__(self):\n",
        "        super(NetComplex, self).__init__()\n",
        "        # Define layers of the neural network\n",
        "        self.fc1 = nn.Linear(784,1024) # First fully connected layer\n",
        "        self.fc2 = nn.Linear(1024,512)\n",
        "        self.fc3 = nn.Linear(512,256)\n",
        "        self.fc4 = nn.Linear(256,128)\n",
        "        self.fc5 = nn.Linear(128,64)\n",
        "        self.fc6 = nn.Linear(64,32)\n",
        "        self.fc7 = nn.Linear(32,10)\n",
        "\n",
        "    def forward(self, x):\n",
        "        # Flatten the input tensor\n",
        "        x = x.view(-1, 28*28)\n",
        "        x=F.relu(self.fc1(x))\n",
        "        x=F.relu(self.fc2(x))\n",
        "        x=F.relu(self.fc3(x))\n",
        "        x=F.relu(self.fc4(x))\n",
        "        x=F.relu(self.fc5(x))\n",
        "        x=F.relu(self.fc6(x))\n",
        "        x = self.fc7(x)\n",
        "\n",
        "\n",
        "        return F.log_softmax(x, dim=1)\n",
        "\n",
        "# Create an instance of the network\n",
        "modelComplex = NetComplex()\n",
        "print(modelComplex)"
      ],
      "metadata": {
        "colab": {
          "base_uri": "https://localhost:8080/"
        },
        "id": "5XGrIIS2fFnw",
        "outputId": "95148fba-d488-4d01-9289-30ff66b78453"
      },
      "execution_count": 87,
      "outputs": [
        {
          "output_type": "stream",
          "name": "stdout",
          "text": [
            "NetComplex(\n",
            "  (fc1): Linear(in_features=784, out_features=1024, bias=True)\n",
            "  (fc2): Linear(in_features=1024, out_features=512, bias=True)\n",
            "  (fc3): Linear(in_features=512, out_features=256, bias=True)\n",
            "  (fc4): Linear(in_features=256, out_features=128, bias=True)\n",
            "  (fc5): Linear(in_features=128, out_features=64, bias=True)\n",
            "  (fc6): Linear(in_features=64, out_features=32, bias=True)\n",
            "  (fc7): Linear(in_features=32, out_features=10, bias=True)\n",
            ")\n"
          ]
        }
      ]
    },
    {
      "cell_type": "markdown",
      "source": [
        "## Training the Complex  Neural Network Model 🏋️‍♀️🏋️‍♂️\n",
        "\n"
      ],
      "metadata": {
        "id": "ykTTMcGuh-_5"
      }
    },
    {
      "cell_type": "code",
      "source": [
        "# Import optimizer\n",
        "from torch.optim import SGD\n",
        "\n",
        "# Define the loss function and optimizer\n",
        "criterion = nn.CrossEntropyLoss() #loss function\n",
        "optimizer = SGD(modelComplex.parameters(), lr=0.01) # Stochastic gradient descent\n",
        "\n",
        "# Set the number of epochs\n",
        "num_epochs = 50\n",
        "listOfTrainLoss2 = []\n",
        "listOfTestLoss2 = []\n",
        "# Training loop\n",
        "for epoch in range(num_epochs):\n",
        "    running_loss = 0.0\n",
        "    for images, labels in train_loader:\n",
        "\n",
        "        optimizer.zero_grad()\n",
        "\n",
        "        outputs = modelComplex(images)\n",
        "\n",
        "        loss = criterion(outputs, labels)\n",
        "\n",
        "        loss.backward()\n",
        "        optimizer.step()\n",
        "\n",
        "        running_loss += loss.item()\n",
        "\n",
        "    else:\n",
        "        print(f\"Epoch {epoch+1}, Loss: {running_loss/len(train_loader)}\")\n",
        "    listOfTrainLoss2.append(running_loss)\n",
        "\n",
        "\n",
        "    test_loss = 0.0\n",
        "    with torch.no_grad():\n",
        "       for images, labels in test_loader:\n",
        "          # Complete evaluation pass\n",
        "          outputs = modelComplex(images)\n",
        "\n",
        "          testloss = criterion(outputs, labels)\n",
        "\n",
        "          test_loss += loss.item()\n",
        "\n",
        "       else:\n",
        "            print(f\" Loss: {test_loss/len(test_loader)}\")\n",
        "       listOfTestLoss2.append(test_loss)\n",
        "\n",
        "\n",
        "\n",
        "print(\"Training is finished!\")"
      ],
      "metadata": {
        "colab": {
          "base_uri": "https://localhost:8080/"
        },
        "id": "J4gl1CBpfgiX",
        "outputId": "cdbcc756-0810-491a-f3ac-7e7cf444b848"
      },
      "execution_count": 88,
      "outputs": [
        {
          "output_type": "stream",
          "name": "stdout",
          "text": [
            "Epoch 1, Loss: 2.3014100777314925\n",
            " Loss: 2.305957794189453\n",
            "Epoch 2, Loss: 2.2942972180685763\n",
            " Loss: 2.2877044677734375\n",
            "Epoch 3, Loss: 2.205602258253199\n",
            " Loss: 1.8248682022094727\n",
            "Epoch 4, Loss: 1.5569934476413199\n",
            " Loss: 1.0804344415664673\n",
            "Epoch 5, Loss: 0.7916167444829494\n",
            " Loss: 0.6506920456886292\n",
            "Epoch 6, Loss: 0.48408006150712335\n",
            " Loss: 0.22679191827774048\n",
            "Epoch 7, Loss: 0.3311285091711006\n",
            " Loss: 0.10150781273841858\n",
            "Epoch 8, Loss: 0.25556479155350087\n",
            " Loss: 0.17853133380413055\n",
            "Epoch 9, Loss: 0.2065178233184921\n",
            " Loss: 0.05655939131975174\n",
            "Epoch 10, Loss: 0.17332269043238688\n",
            " Loss: 0.05674715340137482\n",
            "Epoch 11, Loss: 0.14746800478873476\n",
            " Loss: 0.05900216102600098\n",
            "Epoch 12, Loss: 0.12802815354312025\n",
            " Loss: 0.057768844068050385\n",
            "Epoch 13, Loss: 0.1094819580379532\n",
            " Loss: 0.12319426983594894\n",
            "Epoch 14, Loss: 0.09748510976852194\n",
            " Loss: 0.046972889453172684\n",
            "Epoch 15, Loss: 0.08435955112139736\n",
            " Loss: 0.051106177270412445\n",
            "Epoch 16, Loss: 0.07332732239569317\n",
            " Loss: 0.005298482719808817\n",
            "Epoch 17, Loss: 0.06455388086002026\n",
            " Loss: 0.10228343307971954\n",
            "Epoch 18, Loss: 0.05508751347626267\n",
            " Loss: 0.007273299153894186\n",
            "Epoch 19, Loss: 0.04799556921085796\n",
            " Loss: 0.29430145025253296\n",
            "Epoch 20, Loss: 0.04212499854588277\n",
            " Loss: 0.050244640558958054\n",
            "Epoch 21, Loss: 0.0361081856821201\n",
            " Loss: 0.0030310708098113537\n",
            "Epoch 22, Loss: 0.03264861949880832\n",
            " Loss: 0.006302502006292343\n",
            "Epoch 23, Loss: 0.026602545560192144\n",
            " Loss: 0.015530036762356758\n",
            "Epoch 24, Loss: 0.02223511309442875\n",
            " Loss: 0.006143182050436735\n",
            "Epoch 25, Loss: 0.02083097950059316\n",
            " Loss: 0.009113656356930733\n",
            "Epoch 26, Loss: 0.019054886571671276\n",
            " Loss: 0.014831478707492352\n",
            "Epoch 27, Loss: 0.012893142473478334\n",
            " Loss: 0.0012726604472845793\n",
            "Epoch 28, Loss: 0.013066390975326823\n",
            " Loss: 0.00855320319533348\n",
            "Epoch 29, Loss: 0.07600938614966014\n",
            " Loss: 0.0014237912837415934\n",
            "Epoch 30, Loss: 0.023527359965367558\n",
            " Loss: 0.0190989151597023\n",
            "Epoch 31, Loss: 0.01527129727343012\n",
            " Loss: 0.021939529106020927\n",
            "Epoch 32, Loss: 0.011252117896716157\n",
            " Loss: 0.013782699592411518\n",
            "Epoch 33, Loss: 0.008283723948684993\n",
            " Loss: 0.026159008964896202\n",
            "Epoch 34, Loss: 0.004917774414915291\n",
            " Loss: 0.0015439630951732397\n",
            "Epoch 35, Loss: 0.0030106455199128174\n",
            " Loss: 0.0005796272307634354\n",
            "Epoch 36, Loss: 0.005251088359824834\n",
            " Loss: 0.00031173258321359754\n",
            "Epoch 37, Loss: 0.003882933588514932\n",
            " Loss: 2.7788240913650952e-05\n",
            "Epoch 38, Loss: 0.0018139770416107446\n",
            " Loss: 0.00042213115375488997\n",
            "Epoch 39, Loss: 0.00128097220157967\n",
            " Loss: 0.00026343882200308144\n",
            "Epoch 40, Loss: 0.000837629157652747\n",
            " Loss: 0.0008866751450113952\n",
            "Epoch 41, Loss: 0.0007010713791701232\n",
            " Loss: 0.0004034822923131287\n",
            "Epoch 42, Loss: 0.0005247537795035733\n",
            " Loss: 0.0012035178951919079\n",
            "Epoch 43, Loss: 0.00044012941753690245\n",
            " Loss: 9.889858483802527e-05\n",
            "Epoch 44, Loss: 0.00039556907835492175\n",
            " Loss: 0.001072549493983388\n",
            "Epoch 45, Loss: 0.00036367170227490504\n",
            " Loss: 0.00012163684004917741\n",
            "Epoch 46, Loss: 0.0003220796172176292\n",
            " Loss: 0.00015082287427503616\n",
            "Epoch 47, Loss: 0.0002867223860679343\n",
            " Loss: 0.0004247162432875484\n",
            "Epoch 48, Loss: 0.0002779501686501447\n",
            " Loss: 6.150170520413667e-05\n",
            "Epoch 49, Loss: 0.00025725374845850013\n",
            " Loss: 0.000732652610167861\n",
            "Epoch 50, Loss: 0.00023471803497925265\n",
            " Loss: 0.0008333693258464336\n",
            "Training is finished!\n"
          ]
        }
      ]
    },
    {
      "cell_type": "markdown",
      "source": [
        "#Complex Model Evaluation\n"
      ],
      "metadata": {
        "id": "XcZ3ShKC7Uw_"
      }
    },
    {
      "cell_type": "code",
      "source": [
        "import torch\n",
        "modelComplex.eval()\n",
        "\n",
        "correct = 0\n",
        "total = 0\n",
        "with torch.no_grad():\n",
        "    for images, labels in test_loader:\n",
        "        outputs = modelComplex(images)\n",
        "        _, predicted = torch.max(outputs.data, 1)\n",
        "        total += labels.size(0)\n",
        "        correct += (predicted == labels).sum().item()\n",
        "\n",
        "accuracy = 100 * correct / total\n",
        "print(f'Accuracy of the complex model on the test images: {accuracy:.2f}%')"
      ],
      "metadata": {
        "id": "8niHheMD6eAL",
        "outputId": "ecf333ae-193d-423d-94e9-043aa102cd8e",
        "colab": {
          "base_uri": "https://localhost:8080/"
        }
      },
      "execution_count": 89,
      "outputs": [
        {
          "output_type": "stream",
          "name": "stdout",
          "text": [
            "Accuracy of the complex model on the test images: 97.61%\n"
          ]
        }
      ]
    },
    {
      "cell_type": "markdown",
      "source": [
        "# The Complex Model Complexity Graph\n",
        "the graph shows the training and test loss of Complex model over 50 epochs.\n",
        "The training loss (blue) drops quickly, meaning the model is effectively learning from the training data. The test loss (orange) decreases as well, which is good because it means the model is also predicting new, unseen data accurately.\n"
      ],
      "metadata": {
        "id": "IHeizoaboHbc"
      }
    },
    {
      "cell_type": "code",
      "source": [
        "listOfEpoch = np.arange(len(listOfTrainLoss2))\n",
        "plt.plot(listOfEpoch , listOfTrainLoss2 , label ='Train loss')\n",
        "plt.plot(listOfEpoch , listOfTestLoss2 , label ='Train loss')\n",
        "plt.xlabel('Epochs')\n",
        "plt.ylabel('Loss')\n",
        "plt.grid()\n",
        "plt.title(\" Training and Test Loss\")\n",
        "plt.show()"
      ],
      "metadata": {
        "colab": {
          "base_uri": "https://localhost:8080/",
          "height": 472
        },
        "id": "PqtyZqVjoGkt",
        "outputId": "5a0ac75a-97a6-4053-fe1b-28bcc3aecfb7"
      },
      "execution_count": 90,
      "outputs": [
        {
          "output_type": "display_data",
          "data": {
            "text/plain": [
              "<Figure size 640x480 with 1 Axes>"
            ],
            "image/png": "[encoded data removed]"
          },
          "metadata": {}
        }
      ]
    },
    {
      "cell_type": "markdown",
      "source": [
        "## Implementing Early Stopping 🛑\n",
        "\n"
      ],
      "metadata": {
        "id": "AzCT0HIA0nQf"
      }
    },
    {
      "cell_type": "code",
      "source": [
        "num_epochs = 50\n",
        "patience = 5\n",
        "min_delta = 0.01\n",
        "best_loss = None\n",
        "patience_counter = 0\n",
        "\n",
        "# Training loop with early stopping\n",
        "for epoch in range(num_epochs):\n",
        "    model.train()\n",
        "    running_loss = 0.0\n",
        "    for images, labels in train_loader:\n",
        "        # Training pass\n",
        "        optimizer.zero_grad()\n",
        "        outputs = model(images)\n",
        "        loss = criterion(outputs, labels)\n",
        "        loss.backward()\n",
        "        optimizer.step()\n",
        "        running_loss += loss.item()\n",
        "\n",
        "    # evaluation phase\n",
        "    model.eval()\n",
        "    test_set_loss = 0.0\n",
        "    with torch.no_grad():\n",
        "        for images, labels in test_loader:\n",
        "            output = model(images)\n",
        "            test_loss += loss.item()\n",
        "\n",
        "    # Calculate average losses\n",
        "    training_loss = running_loss / len(train_loader)\n",
        "    test_loss /= len(test_loader)\n",
        "\n",
        "    print(f\"Epoch {epoch+1}, Training Loss: {training_loss}, test Loss: {test_loss}\")\n",
        "\n",
        "    # Early stopping logic\n",
        "    if best_loss is None or test_loss < best_loss - min_delta:\n",
        "        best_loss = test_loss\n",
        "        patience_counter = 0\n",
        "    else:\n",
        "        patience_counter += 1\n",
        "        if patience_counter >= patience:\n",
        "            print(\"Early stopping triggered!\")\n",
        "            break\n",
        "\n",
        "print(\"Training is finished!\")"
      ],
      "metadata": {
        "id": "gDm6xmNB0mio",
        "colab": {
          "base_uri": "https://localhost:8080/"
        },
        "outputId": "f2b48a45-d288-4de0-f79b-9cdb978968a5"
      },
      "execution_count": 95,
      "outputs": [
        {
          "output_type": "stream",
          "name": "stdout",
          "text": [
            "Epoch 1, Training Loss: 0.2607711819983495, test Loss: 0.3075343067452325\n",
            "Epoch 2, Training Loss: 0.26069896562553163, test Loss: 0.17401391267460434\n",
            "Epoch 3, Training Loss: 0.2606760823785433, test Loss: 0.1302344706027929\n",
            "Epoch 4, Training Loss: 0.26072692633596567, test Loss: 0.22533993530954857\n",
            "Epoch 5, Training Loss: 0.26064536034234803, test Loss: 0.07292655001898264\n",
            "Epoch 6, Training Loss: 0.26067367739387665, test Loss: 0.12507932020289247\n",
            "Epoch 7, Training Loss: 0.2606755830982982, test Loss: 0.12898590459268452\n",
            "Epoch 8, Training Loss: 0.26075967319452686, test Loss: 0.28676385252426645\n",
            "Epoch 9, Training Loss: 0.26094017196883523, test Loss: 0.6263835396336871\n",
            "Epoch 10, Training Loss: 0.2608275087133272, test Loss: 0.41719026130600295\n",
            "Early stopping triggered!\n",
            "Training is finished!\n"
          ]
        }
      ]
    },
    {
      "cell_type": "markdown",
      "source": [
        "#Early Stopping Model Evaluation\n",
        "\n"
      ],
      "metadata": {
        "id": "Y9uXKucN7ZnC"
      }
    },
    {
      "cell_type": "code",
      "source": [
        "import torch\n",
        "model.eval()\n",
        "\n",
        "correct = 0\n",
        "total = 0\n",
        "with torch.no_grad():\n",
        "    for images, labels in test_loader:\n",
        "        outputs = model(images)\n",
        "        _, predicted = torch.max(outputs.data, 1)\n",
        "        total += labels.size(0)\n",
        "        correct += (predicted == labels).sum().item()\n",
        "\n",
        "accuracy = 100 * correct / total\n",
        "print(f'Accuracy of the Early Stopping model on the test images: {accuracy:.2f}%')"
      ],
      "metadata": {
        "id": "k5nY6LTR6nfn",
        "outputId": "0cace355-69a6-4269-db12-b4fd24175dc1",
        "colab": {
          "base_uri": "https://localhost:8080/"
        }
      },
      "execution_count": 103,
      "outputs": [
        {
          "output_type": "stream",
          "name": "stdout",
          "text": [
            "Accuracy of the Early Stopping model on the test images: 92.22%\n"
          ]
        }
      ]
    },
    {
      "cell_type": "markdown",
      "source": [
        "##**min_delta :** minimum change in the monitored quantity to qualify as an improvement, i.e. an absolute change of less than min_delta, will count as no improvement.\n",
        "\n",
        "##**patience :** number of epochs with no improvement after which training will be stopped\n"
      ],
      "metadata": {
        "id": "5TAnHlCl7lxS"
      }
    },
    {
      "cell_type": "markdown",
      "source": [
        "# The different from the first training is that the model have the same accuracy but it train only with 10 epochs not like the first it train with 50 epochs (the model is simple and if I play with the hyper parameters of Early Stopping I will get better Accuracy)"
      ],
      "metadata": {
        "id": "qN438w0iEf02"
      }
    },
    {
      "cell_type": "markdown",
      "source": [
        "## Experimenting with Dropout 🌧️\n",
        "\n"
      ],
      "metadata": {
        "id": "Lg47wh8z1xvj"
      }
    },
    {
      "cell_type": "code",
      "source": [
        "class NetWithDropout(nn.Module):\n",
        "    def __init__(self):\n",
        "        super(NetWithDropout, self).__init__()\n",
        "        # Define layers of the neural network\n",
        "        self.fc1 = nn.Linear(28 * 28, 128)\n",
        "        self.dropout1 = nn.Dropout()  # Dropout layer with 20% probability\n",
        "        self.fc2 = nn.Linear(128, 64)\n",
        "        self.dropout2 = nn.Dropout()  # Dropout layer with 50% probability\n",
        "        self.fc3 = nn.Linear(64, 10)\n",
        "\n",
        "    def forward(self, x):\n",
        "        # Flatten the input tensor\n",
        "        x = x.view(-1, 28 * 28)\n",
        "        # Forward pass with dropout\n",
        "        x = F.relu(self.fc1(x))\n",
        "        x = self.dropout1(x)\n",
        "        x = F.relu(self.fc2(x))\n",
        "        x = self.dropout2(x)\n",
        "        x = self.fc3(x)\n",
        "        return x\n",
        "\n",
        "# Create an instance of the network with dropout\n",
        "model_with_dropout = NetWithDropout()\n",
        "print(model_with_dropout)"
      ],
      "metadata": {
        "id": "DjioUiV31brx",
        "colab": {
          "base_uri": "https://localhost:8080/"
        },
        "outputId": "097dc728-1aa3-4cff-e421-75b18d1a8b6f"
      },
      "execution_count": 99,
      "outputs": [
        {
          "output_type": "stream",
          "name": "stdout",
          "text": [
            "NetWithDropout(\n",
            "  (fc1): Linear(in_features=784, out_features=128, bias=True)\n",
            "  (dropout1): Dropout(p=0.5, inplace=False)\n",
            "  (fc2): Linear(in_features=128, out_features=64, bias=True)\n",
            "  (dropout2): Dropout(p=0.5, inplace=False)\n",
            "  (fc3): Linear(in_features=64, out_features=10, bias=True)\n",
            ")\n"
          ]
        }
      ]
    },
    {
      "cell_type": "markdown",
      "source": [
        "#Training the Neural Network Model With Dropout 🏋️‍♀️🏋️‍♂️\n",
        "\n"
      ],
      "metadata": {
        "id": "es56xHYzx8p4"
      }
    },
    {
      "cell_type": "code",
      "source": [
        "# Import optimizer\n",
        "from torch.optim import SGD\n",
        "\n",
        "# Define the loss function and optimizer\n",
        "criterion = nn.CrossEntropyLoss() #loss function\n",
        "optimizer = SGD(model.parameters(), lr=0.01) # Stochastic gradient descent\n",
        "\n",
        "# Set the number of epochs\n",
        "num_epochs = 50\n",
        "listOfTrainLoss3 = []\n",
        "listOfTestLoss3 = []\n",
        "# Training loop\n",
        "for epoch in range(num_epochs):\n",
        "    running_loss = 0.0\n",
        "    for images, labels in train_loader:\n",
        "\n",
        "        optimizer.zero_grad()\n",
        "\n",
        "        outputs = model_with_dropout(images)\n",
        "\n",
        "        loss = criterion(outputs, labels)\n",
        "\n",
        "        loss.backward()\n",
        "        optimizer.step()\n",
        "\n",
        "        running_loss += loss.item()\n",
        "\n",
        "    else:\n",
        "        print(f\"Epoch {epoch+1}, Loss: {running_loss/len(train_loader)}\")\n",
        "    listOfTrainLoss3.append(running_loss)\n",
        "\n",
        "\n",
        "    test_loss = 0.0\n",
        "    with torch.no_grad():\n",
        "       for images, labels in test_loader:\n",
        "          # Complete evaluation pass\n",
        "          outputs = model_with_dropout(images)\n",
        "\n",
        "          testloss = criterion(outputs, labels)\n",
        "\n",
        "          test_loss += loss.item()\n",
        "\n",
        "       else:\n",
        "            print(f\" Loss: {test_loss/len(test_loader)}\")\n",
        "       listOfTestLoss3.append(test_loss)\n",
        "\n",
        "\n",
        "\n",
        "print(\"Training is finished!\")"
      ],
      "metadata": {
        "colab": {
          "base_uri": "https://localhost:8080/"
        },
        "id": "hv_qeTZGx3FG",
        "outputId": "27f1fc47-6b0b-41fe-d76a-8b543b47b8e7"
      },
      "execution_count": 100,
      "outputs": [
        {
          "output_type": "stream",
          "name": "stdout",
          "text": [
            "Epoch 1, Loss: 2.333347436715799\n",
            " Loss: 2.2992334365844727\n",
            "Epoch 2, Loss: 2.3341307248642194\n",
            " Loss: 2.311828851699829\n",
            "Epoch 3, Loss: 2.334817451454683\n",
            " Loss: 2.323716163635254\n",
            "Epoch 4, Loss: 2.3343127737167295\n",
            " Loss: 2.2926833629608154\n",
            "Epoch 5, Loss: 2.3337506208338463\n",
            " Loss: 2.383882761001587\n",
            "Epoch 6, Loss: 2.333896638487956\n",
            " Loss: 2.3433077335357666\n",
            "Epoch 7, Loss: 2.3333676176538853\n",
            " Loss: 2.3200929164886475\n",
            "Epoch 8, Loss: 2.3343438952208073\n",
            " Loss: 2.339994192123413\n",
            "Epoch 9, Loss: 2.3347145474033315\n",
            " Loss: 2.4026715755462646\n",
            "Epoch 10, Loss: 2.3337060518102097\n",
            " Loss: 2.313587188720703\n",
            "Epoch 11, Loss: 2.334536322906836\n",
            " Loss: 2.3072080612182617\n",
            "Epoch 12, Loss: 2.334162146552031\n",
            " Loss: 2.3220179080963135\n",
            "Epoch 13, Loss: 2.3344966076584512\n",
            " Loss: 2.3364264965057373\n",
            "Epoch 14, Loss: 2.3340193879629756\n",
            " Loss: 2.3493289947509766\n",
            "Epoch 15, Loss: 2.3334095188295407\n",
            " Loss: 2.3550403118133545\n",
            "Epoch 16, Loss: 2.3330367236757583\n",
            " Loss: 2.335313320159912\n",
            "Epoch 17, Loss: 2.3333443769259747\n",
            " Loss: 2.3176143169403076\n",
            "Epoch 18, Loss: 2.33302460906348\n",
            " Loss: 2.387965679168701\n",
            "Epoch 19, Loss: 2.333540601771015\n",
            " Loss: 2.418111801147461\n",
            "Epoch 20, Loss: 2.334035404201255\n",
            " Loss: 2.336920738220215\n",
            "Epoch 21, Loss: 2.3341177874790833\n",
            " Loss: 2.3085381984710693\n",
            "Epoch 22, Loss: 2.333798754189823\n",
            " Loss: 2.3010082244873047\n",
            "Epoch 23, Loss: 2.334008055963496\n",
            " Loss: 2.3174397945404053\n",
            "Epoch 24, Loss: 2.333402880981787\n",
            " Loss: 2.261129379272461\n",
            "Epoch 25, Loss: 2.334377248149945\n",
            " Loss: 2.3722450733184814\n",
            "Epoch 26, Loss: 2.3335690816074037\n",
            " Loss: 2.3156607151031494\n",
            "Epoch 27, Loss: 2.3346707795474577\n",
            " Loss: 2.3146958351135254\n",
            "Epoch 28, Loss: 2.334064089667314\n",
            " Loss: 2.350681781768799\n",
            "Epoch 29, Loss: 2.333003314065018\n",
            " Loss: 2.3131980895996094\n",
            "Epoch 30, Loss: 2.333785470868987\n",
            " Loss: 2.4042744636535645\n",
            "Epoch 31, Loss: 2.3340874475710938\n",
            " Loss: 2.357487916946411\n",
            "Epoch 32, Loss: 2.3353236242652193\n",
            " Loss: 2.333569288253784\n",
            "Epoch 33, Loss: 2.3346536225601553\n",
            " Loss: 2.3111581802368164\n",
            "Epoch 34, Loss: 2.3334169021801654\n",
            " Loss: 2.378434419631958\n",
            "Epoch 35, Loss: 2.3333001718846464\n",
            " Loss: 2.317056894302368\n",
            "Epoch 36, Loss: 2.333602255849696\n",
            " Loss: 2.2833874225616455\n",
            "Epoch 37, Loss: 2.3346971123457463\n",
            " Loss: 2.2960100173950195\n",
            "Epoch 38, Loss: 2.333388456403574\n",
            " Loss: 2.346708297729492\n",
            "Epoch 39, Loss: 2.3336198919617543\n",
            " Loss: 2.330177068710327\n",
            "Epoch 40, Loss: 2.333958007633559\n",
            " Loss: 2.3144547939300537\n",
            "Epoch 41, Loss: 2.3339240024847263\n",
            " Loss: 2.320993185043335\n",
            "Epoch 42, Loss: 2.3333240523775505\n",
            " Loss: 2.3245036602020264\n",
            "Epoch 43, Loss: 2.333110159648253\n",
            " Loss: 2.3292360305786133\n",
            "Epoch 44, Loss: 2.3338411184770465\n",
            " Loss: 2.396733045578003\n",
            "Epoch 45, Loss: 2.3349534079972614\n",
            " Loss: 2.299825429916382\n",
            "Epoch 46, Loss: 2.333795122246244\n",
            " Loss: 2.356748342514038\n",
            "Epoch 47, Loss: 2.3336835911533216\n",
            " Loss: 2.2764692306518555\n",
            "Epoch 48, Loss: 2.3339357457435463\n",
            " Loss: 2.4207653999328613\n",
            "Epoch 49, Loss: 2.3328947220275653\n",
            " Loss: 2.319096088409424\n",
            "Epoch 50, Loss: 2.3324211256336302\n",
            " Loss: 2.333047866821289\n",
            "Training is finished!\n"
          ]
        }
      ]
    },
    {
      "cell_type": "markdown",
      "source": [
        "#Model With Dropout Evaluation"
      ],
      "metadata": {
        "id": "mbdwQp-_-o70"
      }
    },
    {
      "cell_type": "code",
      "source": [
        "import torch\n",
        "model_with_dropout.eval()\n",
        "\n",
        "correct = 0\n",
        "total = 0\n",
        "with torch.no_grad():\n",
        "    for images, labels in test_loader:\n",
        "        outputs = model_with_dropout(images)\n",
        "        _, predicted = torch.max(outputs.data, 1)\n",
        "        total += labels.size(0)\n",
        "        correct += (predicted == labels).sum().item()\n",
        "\n",
        "accuracy = 100 * correct / total\n",
        "print(f'Accuracy of the model with dropout on the test images: {accuracy:.2f}%')"
      ],
      "metadata": {
        "id": "rukWSgQr6vnA",
        "outputId": "3b588b1a-8c41-4165-8338-cfcb3b9e7db6",
        "colab": {
          "base_uri": "https://localhost:8080/"
        }
      },
      "execution_count": 102,
      "outputs": [
        {
          "output_type": "stream",
          "name": "stdout",
          "text": [
            "Accuracy of the model with dropout on the test images: 11.26%\n"
          ]
        }
      ]
    },
    {
      "cell_type": "markdown",
      "source": [
        "# The Complex Model Complexity Graph\n",
        "the graph shows the training and test loss of Complex model over 10 epochs.\n",
        "\n",
        " Both losses are low and flat, indicating little change through the epochs, which may suggest that the model is not learning from the data.\n"
      ],
      "metadata": {
        "id": "MeaYFbzu8-vZ"
      }
    },
    {
      "cell_type": "code",
      "source": [
        "listOfEpoch = np.arange(len(listOfTrainLoss3))\n",
        "plt.plot(listOfEpoch , listOfTrainLoss3 , label ='Train loss')\n",
        "plt.plot(listOfEpoch , listOfTestLoss3 , label ='Train loss')\n",
        "plt.xlabel('Epochs')\n",
        "plt.ylabel('Loss')\n",
        "plt.grid()\n",
        "plt.title(\" Training and Test Loss\")\n",
        "plt.show()"
      ],
      "metadata": {
        "id": "390t_OxW88yo",
        "outputId": "580d4864-4127-4275-a791-404964a3156c",
        "colab": {
          "base_uri": "https://localhost:8080/",
          "height": 472
        }
      },
      "execution_count": 96,
      "outputs": [
        {
          "output_type": "display_data",
          "data": {
            "text/plain": [
              "<Figure size 640x480 with 1 Axes>"
            ],
            "image/png": "[encoded data removed]"
          },
          "metadata": {}
        }
      ]
    },
    {
      "cell_type": "markdown",
      "source": [
        "##The Model with dropout is not Learning"
      ],
      "metadata": {
        "id": "_mBpv_w1_1V9"
      }
    }
  ]
}